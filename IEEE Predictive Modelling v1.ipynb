{
 "cells": [
  {
   "cell_type": "code",
   "execution_count": 97,
   "metadata": {},
   "outputs": [],
   "source": [
    "import pandas as pd\n",
    "import numpy as np\n",
    "\n",
    "import multiprocessing\n",
    "import gc\n",
    "\n",
    "from time import time\n",
    "import datetime\n",
    "\n",
    "from tqdm import tqdm_notebook\n",
    "\n",
    "import seaborn as sns\n",
    "import matplotlib.pyplot as plt\n",
    "\n",
    "from sklearn.metrics import roc_auc_score\n",
    "from sklearn.preprocessing import LabelEncoder\n",
    "from sklearn.model_selection import KFold, TimeSeriesSplit\n",
    "from sklearn.feature_selection import RFECV\n",
    "\n",
    "import lightgbm as lgb\n",
    "\n",
    "sns.set()\n",
    "%matplotlib inline"
   ]
  },
  {
   "cell_type": "code",
   "execution_count": 110,
   "metadata": {},
   "outputs": [
    {
     "name": "stdout",
     "output_type": "stream",
     "text": [
      "Wall time: 1min 9s\n"
     ]
    }
   ],
   "source": [
    "%%time\n",
    "\n",
    "base_path = 'C:/Users/VenD/Downloads/ieee-fraud-detection/dataset/'\n",
    "\n",
    "train_transaction = pd.read_csv(base_path + 'train_transaction.csv')\n",
    "train_identity = pd.read_csv(base_path + 'train_identity.csv')\n",
    "\n",
    "test_identity = pd.read_csv(base_path + 'test_identity.csv')\n",
    "test_transaction = pd.read_csv(base_path + 'test_transaction.csv')\n",
    "\n",
    "sample_submission = pd.read_csv(base_path + 'sample_submission.csv')\n",
    "\n",
    "train = train_transaction.merge(train_identity, how='left', on='TransactionID')\n",
    "test = test_transaction.merge(test_identity, how='left', on='TransactionID')\n",
    "\n",
    "del train_transaction, train_identity, test_transaction, test_identity\n",
    "gc.collect()"
   ]
  },
  {
   "cell_type": "markdown",
   "metadata": {},
   "source": [
    "## Handle Missing Values and Feature Selection\n",
    "\n",
    "We can eleminate some useless features already at the begining. Such as:\n",
    "\n",
    "- Features with only 1 unique value\n",
    "- Features with more than 90% missing values\n",
    "- Features with the top value appears more than 90% of the time"
   ]
  },
  {
   "cell_type": "code",
   "execution_count": 8,
   "metadata": {},
   "outputs": [],
   "source": [
    "def one_unique_value_features(df):\n",
    "    one_value_cols = [col for col in df if df[col].nunique() == 1]\n",
    "    \n",
    "    return one_value_cols"
   ]
  },
  {
   "cell_type": "code",
   "execution_count": 9,
   "metadata": {},
   "outputs": [],
   "source": [
    "def missing_value_features(df, threshold = 0.0):\n",
    "    missing_value_cols = [col for col in df if (df[col].isnull().sum() / df.shape[0]) > threshold]\n",
    "    \n",
    "    return missing_value_cols"
   ]
  },
  {
   "cell_type": "code",
   "execution_count": 10,
   "metadata": {},
   "outputs": [],
   "source": [
    "def frequent_value_features(df, threshold = 0.0):\n",
    "    frequent_top_value_cols = [col for col in df if df[col].value_counts(dropna=False, normalize=True).values[0] > threshold]\n",
    "    \n",
    "    return frequent_top_value_cols"
   ]
  },
  {
   "cell_type": "code",
   "execution_count": 17,
   "metadata": {},
   "outputs": [
    {
     "name": "stdout",
     "output_type": "stream",
     "text": [
      "Total one value columns in train are:  0\n",
      "Total one value columns in test are:  1\n",
      "Total columns with more than 90% missing values in train are:  12\n",
      "Total columns with more than 90% missing values in test are:  10\n",
      "Total columns with more than 90% top value in train are:  67\n",
      "Total columns with more than 90% top value in test are:  79\n",
      "\n",
      "Total 82 features are going to be dropped for being useless\n",
      "\n",
      "Wall time: 22.2 s\n"
     ]
    }
   ],
   "source": [
    "%%time\n",
    "\n",
    "one_value_cols_train = one_unique_value_features(train)\n",
    "one_value_cols_test = one_unique_value_features(test)\n",
    "\n",
    "missing_value_cols_train = missing_value_features(train, threshold = 0.9)\n",
    "missing_value_cols_test = missing_value_features(test, threshold = 0.9)\n",
    "\n",
    "frequent_top_value_cols_train = frequent_value_features(train, threshold = 0.9)\n",
    "frequent_top_value_cols_test = frequent_value_features(test, threshold = 0.9)\n",
    "\n",
    "cols_to_drop = list(set(one_value_cols_train + one_value_cols_test + missing_value_cols_train +\n",
    "                        missing_value_cols_test + frequent_top_value_cols_train +\n",
    "                        frequent_top_value_cols_test))\n",
    "\n",
    "# remove the target\n",
    "cols_to_drop.remove('isFraud')\n",
    "\n",
    "print(\"Total one value columns in train are: \", len(one_value_cols_train))\n",
    "print(\"Total one value columns in test are: \", len(one_value_cols_test))\n",
    "\n",
    "print(\"Total columns with more than 90% missing values in train are: \", len(missing_value_cols_train))\n",
    "print(\"Total columns with more than 90% missing values in test are: \", len(missing_value_cols_test))\n",
    "\n",
    "print(\"Total columns with more than 90% top value in train are: \", len(frequent_top_value_cols_train))\n",
    "print(\"Total columns with more than 90% top value in test are: \", len(frequent_top_value_cols_test))\n",
    "\n",
    "print(f\"\\nTotal {len(cols_to_drop)} features are going to be dropped for being useless\\n\")"
   ]
  },
  {
   "cell_type": "code",
   "execution_count": 19,
   "metadata": {},
   "outputs": [],
   "source": [
    "# drop useless features from train and test set\n",
    "train = train.drop(cols_to_drop, axis=1)\n",
    "test = test.drop(cols_to_drop, axis=1)"
   ]
  },
  {
   "cell_type": "code",
   "execution_count": 111,
   "metadata": {},
   "outputs": [],
   "source": [
    "# Function to reduce the DF size\n",
    "def reduce_memory_usage(df, verbose=True):\n",
    "    numerics = ['int16', 'int32', 'int64', 'float16', 'float32', 'float64']\n",
    "    df_memory_size_in_mega_bytes = df.memory_usage().sum() / 1024**2\n",
    "    for col in tqdm_notebook(df.columns):\n",
    "        col_data_type = df[col].dtypes\n",
    "        if col_data_type in numerics:\n",
    "            col_min = df[col].min()\n",
    "            col_max = df[col].max()\n",
    "            if str(col_data_type)[:3] == 'int':\n",
    "                if col_min > np.iinfo(np.int8).min and col_max < np.iinfo(np.int8).max:\n",
    "                    df[col] = df[col].astype(np.int8)\n",
    "                elif col_min > np.iinfo(np.int16).min and col_max < np.iinfo(np.int16).max:\n",
    "                    df[col] = df[col].astype(np.int16)\n",
    "                elif col_min > np.iinfo(np.int32).min and col_max < np.iinfo(np.int32).max:\n",
    "                    df[col] = df[col].astype(np.int32)\n",
    "                elif col_min > np.iinfo(np.int64).min and col_max < np.iinfo(np.int64).max:\n",
    "                    df[col] = df[col].astype(np.int64) \n",
    "            else:\n",
    "                if col_min > np.finfo(np.float16).min and col_max < np.finfo(np.float16).max:\n",
    "                    df[col] = df[col].astype(np.float16)\n",
    "                elif col_min > np.finfo(np.float32).min and col_max < np.finfo(np.float32).max:\n",
    "                    df[col] = df[col].astype(np.float32)\n",
    "                elif col_min > np.finfo(np.float64).min and col_max < np.finfo(np.float64).max:\n",
    "                    df[col] = df[col].astype(np.float64)\n",
    "                    \n",
    "    reduced_df_memory_size_in_mega_bytes = df.memory_usage().sum() / 1024**2\n",
    "    \n",
    "    memory_diff = (df_memory_size_in_mega_bytes - reduced_df_memory_size_in_mega_bytes)\n",
    "    reduce_percent =  (memory_diff / df_memory_size_in_mega_bytes) * 100\n",
    "    \n",
    "    if verbose:\n",
    "        print('Memory usage decreased from {:5.2f} Mb to {:5.2f} Mb ({:.1f}% reduction)' \\\n",
    "              .format(df_memory_size_in_mega_bytes, reduced_df_memory_size_in_mega_bytes, reduce_percent))\n",
    "        \n",
    "    return df"
   ]
  },
  {
   "cell_type": "code",
   "execution_count": 23,
   "metadata": {},
   "outputs": [
    {
     "data": {
      "application/vnd.jupyter.widget-view+json": {
       "model_id": "de591cec1abe4c79ac153707cde40d9a",
       "version_major": 2,
       "version_minor": 0
      },
      "text/plain": [
       "HBox(children=(IntProgress(value=0, max=352), HTML(value='')))"
      ]
     },
     "metadata": {},
     "output_type": "display_data"
    },
    {
     "name": "stdout",
     "output_type": "stream",
     "text": [
      "\n"
     ]
    }
   ],
   "source": [
    "# handle categorical features\n",
    "for col in tqdm_notebook(train.columns):\n",
    "    if train[col].dtype == 'object':\n",
    "        le = LabelEncoder()\n",
    "        le.fit(list(train[col].astype(str).values) + list(test[col].astype(str).values))\n",
    "        train[col] = le.transform(list(train[col].astype(str).values))"
   ]
  },
  {
   "cell_type": "code",
   "execution_count": 26,
   "metadata": {},
   "outputs": [
    {
     "data": {
      "application/vnd.jupyter.widget-view+json": {
       "model_id": "38b616a8597e4b17a522aa8eca4b9d5f",
       "version_major": 2,
       "version_minor": 0
      },
      "text/plain": [
       "HBox(children=(IntProgress(value=0, max=352), HTML(value='')))"
      ]
     },
     "metadata": {},
     "output_type": "display_data"
    },
    {
     "name": "stdout",
     "output_type": "stream",
     "text": [
      "\n",
      "Memory usage decreased from 1590.43 Mb to 426.33 Mb (73.2% reduction)\n"
     ]
    }
   ],
   "source": [
    "train = reduce_memory_usage(train)"
   ]
  },
  {
   "cell_type": "code",
   "execution_count": 27,
   "metadata": {},
   "outputs": [
    {
     "data": {
      "text/plain": [
       "110"
      ]
     },
     "execution_count": 27,
     "metadata": {},
     "output_type": "execute_result"
    }
   ],
   "source": [
    "X = train.sort_values('TransactionDT').drop(['isFraud', 'TransactionDT', 'TransactionID'], axis=1)\n",
    "y = train.sort_values('TransactionDT')['isFraud']\n",
    "\n",
    "del train\n",
    "gc.collect()"
   ]
  },
  {
   "cell_type": "code",
   "execution_count": 28,
   "metadata": {},
   "outputs": [],
   "source": [
    "# RFECV does not support NaNs\n",
    "X.fillna(-999, inplace=True)"
   ]
  },
  {
   "cell_type": "code",
   "execution_count": 29,
   "metadata": {},
   "outputs": [],
   "source": [
    "params = {'num_leaves': 491,\n",
    "          'min_child_weight': 0.03454472573214212,\n",
    "          'feature_fraction': 0.3797454081646243,\n",
    "          'bagging_fraction': 0.4181193142567742,\n",
    "          'min_data_in_leaf': 106,\n",
    "          'objective': 'binary',\n",
    "          'max_depth': -1,\n",
    "          'learning_rate': 0.006883242363721497,\n",
    "          \"boosting_type\": \"gbdt\",\n",
    "          \"bagging_seed\": 11,\n",
    "          \"metric\": 'auc',\n",
    "          \"verbosity\": -1,\n",
    "          'reg_alpha': 0.3899927210061127,\n",
    "          'reg_lambda': 0.6485237330340494,\n",
    "          'random_state': 47\n",
    "         }"
   ]
  },
  {
   "cell_type": "code",
   "execution_count": 31,
   "metadata": {},
   "outputs": [],
   "source": [
    "clf = lgb.LGBMClassifier(**params)\n",
    "rfe = RFECV(estimator=clf, step=10, cv=KFold(n_splits=5, shuffle=False), scoring='roc_auc', verbose=2)"
   ]
  },
  {
   "cell_type": "code",
   "execution_count": 32,
   "metadata": {},
   "outputs": [
    {
     "name": "stdout",
     "output_type": "stream",
     "text": [
      "Fitting estimator with 349 features.\n",
      "Fitting estimator with 339 features.\n",
      "Fitting estimator with 329 features.\n",
      "Fitting estimator with 319 features.\n",
      "Fitting estimator with 309 features.\n",
      "Fitting estimator with 299 features.\n",
      "Fitting estimator with 289 features.\n",
      "Fitting estimator with 279 features.\n",
      "Fitting estimator with 269 features.\n",
      "Fitting estimator with 259 features.\n",
      "Fitting estimator with 249 features.\n",
      "Fitting estimator with 239 features.\n",
      "Fitting estimator with 229 features.\n",
      "Fitting estimator with 219 features.\n",
      "Fitting estimator with 209 features.\n",
      "Fitting estimator with 199 features.\n",
      "Fitting estimator with 189 features.\n",
      "Fitting estimator with 179 features.\n",
      "Fitting estimator with 169 features.\n",
      "Fitting estimator with 159 features.\n",
      "Fitting estimator with 149 features.\n",
      "Fitting estimator with 139 features.\n",
      "Fitting estimator with 129 features.\n",
      "Fitting estimator with 119 features.\n",
      "Fitting estimator with 109 features.\n",
      "Fitting estimator with 99 features.\n",
      "Fitting estimator with 89 features.\n",
      "Fitting estimator with 79 features.\n",
      "Fitting estimator with 69 features.\n",
      "Fitting estimator with 59 features.\n",
      "Fitting estimator with 49 features.\n",
      "Fitting estimator with 39 features.\n",
      "Fitting estimator with 29 features.\n",
      "Fitting estimator with 19 features.\n",
      "Fitting estimator with 9 features.\n",
      "Fitting estimator with 349 features.\n",
      "Fitting estimator with 339 features.\n",
      "Fitting estimator with 329 features.\n",
      "Fitting estimator with 319 features.\n",
      "Fitting estimator with 309 features.\n",
      "Fitting estimator with 299 features.\n",
      "Fitting estimator with 289 features.\n",
      "Fitting estimator with 279 features.\n",
      "Fitting estimator with 269 features.\n",
      "Fitting estimator with 259 features.\n",
      "Fitting estimator with 249 features.\n",
      "Fitting estimator with 239 features.\n",
      "Fitting estimator with 229 features.\n",
      "Fitting estimator with 219 features.\n",
      "Fitting estimator with 209 features.\n",
      "Fitting estimator with 199 features.\n",
      "Fitting estimator with 189 features.\n",
      "Fitting estimator with 179 features.\n",
      "Fitting estimator with 169 features.\n",
      "Fitting estimator with 159 features.\n",
      "Fitting estimator with 149 features.\n",
      "Fitting estimator with 139 features.\n",
      "Fitting estimator with 129 features.\n",
      "Fitting estimator with 119 features.\n",
      "Fitting estimator with 109 features.\n",
      "Fitting estimator with 99 features.\n",
      "Fitting estimator with 89 features.\n",
      "Fitting estimator with 79 features.\n",
      "Fitting estimator with 69 features.\n",
      "Fitting estimator with 59 features.\n",
      "Fitting estimator with 49 features.\n",
      "Fitting estimator with 39 features.\n",
      "Fitting estimator with 29 features.\n",
      "Fitting estimator with 19 features.\n",
      "Fitting estimator with 9 features.\n",
      "Fitting estimator with 349 features.\n",
      "Fitting estimator with 339 features.\n",
      "Fitting estimator with 329 features.\n",
      "Fitting estimator with 319 features.\n",
      "Fitting estimator with 309 features.\n",
      "Fitting estimator with 299 features.\n",
      "Fitting estimator with 289 features.\n",
      "Fitting estimator with 279 features.\n",
      "Fitting estimator with 269 features.\n",
      "Fitting estimator with 259 features.\n",
      "Fitting estimator with 249 features.\n",
      "Fitting estimator with 239 features.\n",
      "Fitting estimator with 229 features.\n",
      "Fitting estimator with 219 features.\n",
      "Fitting estimator with 209 features.\n",
      "Fitting estimator with 199 features.\n",
      "Fitting estimator with 189 features.\n",
      "Fitting estimator with 179 features.\n",
      "Fitting estimator with 169 features.\n",
      "Fitting estimator with 159 features.\n",
      "Fitting estimator with 149 features.\n",
      "Fitting estimator with 139 features.\n",
      "Fitting estimator with 129 features.\n",
      "Fitting estimator with 119 features.\n",
      "Fitting estimator with 109 features.\n",
      "Fitting estimator with 99 features.\n",
      "Fitting estimator with 89 features.\n",
      "Fitting estimator with 79 features.\n",
      "Fitting estimator with 69 features.\n",
      "Fitting estimator with 59 features.\n",
      "Fitting estimator with 49 features.\n",
      "Fitting estimator with 39 features.\n",
      "Fitting estimator with 29 features.\n",
      "Fitting estimator with 19 features.\n",
      "Fitting estimator with 9 features.\n",
      "Fitting estimator with 349 features.\n",
      "Fitting estimator with 339 features.\n",
      "Fitting estimator with 329 features.\n",
      "Fitting estimator with 319 features.\n",
      "Fitting estimator with 309 features.\n",
      "Fitting estimator with 299 features.\n",
      "Fitting estimator with 289 features.\n",
      "Fitting estimator with 279 features.\n",
      "Fitting estimator with 269 features.\n",
      "Fitting estimator with 259 features.\n",
      "Fitting estimator with 249 features.\n",
      "Fitting estimator with 239 features.\n",
      "Fitting estimator with 229 features.\n",
      "Fitting estimator with 219 features.\n",
      "Fitting estimator with 209 features.\n",
      "Fitting estimator with 199 features.\n",
      "Fitting estimator with 189 features.\n",
      "Fitting estimator with 179 features.\n",
      "Fitting estimator with 169 features.\n",
      "Fitting estimator with 159 features.\n",
      "Fitting estimator with 149 features.\n",
      "Fitting estimator with 139 features.\n",
      "Fitting estimator with 129 features.\n",
      "Fitting estimator with 119 features.\n",
      "Fitting estimator with 109 features.\n",
      "Fitting estimator with 99 features.\n",
      "Fitting estimator with 89 features.\n",
      "Fitting estimator with 79 features.\n",
      "Fitting estimator with 69 features.\n",
      "Fitting estimator with 59 features.\n",
      "Fitting estimator with 49 features.\n",
      "Fitting estimator with 39 features.\n",
      "Fitting estimator with 29 features.\n",
      "Fitting estimator with 19 features.\n",
      "Fitting estimator with 9 features.\n",
      "Fitting estimator with 349 features.\n",
      "Fitting estimator with 339 features.\n",
      "Fitting estimator with 329 features.\n",
      "Fitting estimator with 319 features.\n",
      "Fitting estimator with 309 features.\n",
      "Fitting estimator with 299 features.\n",
      "Fitting estimator with 289 features.\n",
      "Fitting estimator with 279 features.\n",
      "Fitting estimator with 269 features.\n",
      "Fitting estimator with 259 features.\n",
      "Fitting estimator with 249 features.\n",
      "Fitting estimator with 239 features.\n",
      "Fitting estimator with 229 features.\n",
      "Fitting estimator with 219 features.\n",
      "Fitting estimator with 209 features.\n",
      "Fitting estimator with 199 features.\n",
      "Fitting estimator with 189 features.\n",
      "Fitting estimator with 179 features.\n",
      "Fitting estimator with 169 features.\n",
      "Fitting estimator with 159 features.\n",
      "Fitting estimator with 149 features.\n",
      "Fitting estimator with 139 features.\n",
      "Fitting estimator with 129 features.\n",
      "Fitting estimator with 119 features.\n",
      "Fitting estimator with 109 features.\n",
      "Fitting estimator with 99 features.\n",
      "Fitting estimator with 89 features.\n",
      "Fitting estimator with 79 features.\n",
      "Fitting estimator with 69 features.\n",
      "Fitting estimator with 59 features.\n",
      "Fitting estimator with 49 features.\n",
      "Fitting estimator with 39 features.\n",
      "Fitting estimator with 29 features.\n",
      "Fitting estimator with 19 features.\n",
      "Fitting estimator with 9 features.\n",
      "Fitting estimator with 349 features.\n",
      "Fitting estimator with 339 features.\n",
      "Fitting estimator with 329 features.\n",
      "Fitting estimator with 319 features.\n",
      "Fitting estimator with 309 features.\n",
      "Fitting estimator with 299 features.\n",
      "Fitting estimator with 289 features.\n",
      "Fitting estimator with 279 features.\n",
      "Fitting estimator with 269 features.\n",
      "Fitting estimator with 259 features.\n",
      "Fitting estimator with 249 features.\n",
      "Fitting estimator with 239 features.\n",
      "Fitting estimator with 229 features.\n",
      "Fitting estimator with 219 features.\n",
      "Fitting estimator with 209 features.\n",
      "Fitting estimator with 199 features.\n",
      "Fitting estimator with 189 features.\n",
      "Fitting estimator with 179 features.\n",
      "Fitting estimator with 169 features.\n",
      "Wall time: 1h 12min 2s\n"
     ]
    },
    {
     "data": {
      "text/plain": [
       "RFECV(cv=KFold(n_splits=5, random_state=None, shuffle=False),\n",
       "   estimator=LGBMClassifier(bagging_fraction=0.4181193142567742, bagging_seed=11,\n",
       "        boosting_type='gbdt', class_weight=None, colsample_bytree=1.0,\n",
       "        feature_fraction=0.3797454081646243, importance_type='split',\n",
       "        learning_rate=0.006883242363721497, max_depth=-1, metric='auc',\n",
       "        ...       silent=True, subsample=1.0, subsample_for_bin=200000,\n",
       "        subsample_freq=0, verbosity=-1),\n",
       "   min_features_to_select=1, n_jobs=None, scoring='roc_auc', step=10,\n",
       "   verbose=2)"
      ]
     },
     "execution_count": 32,
     "metadata": {},
     "output_type": "execute_result"
    }
   ],
   "source": [
    "%%time\n",
    "\n",
    "rfe.fit(X, y)"
   ]
  },
  {
   "cell_type": "code",
   "execution_count": 33,
   "metadata": {},
   "outputs": [
    {
     "name": "stdout",
     "output_type": "stream",
     "text": [
      "Optimal number of features: 159\n"
     ]
    }
   ],
   "source": [
    "print('Optimal number of features:', rfe.n_features_)"
   ]
  },
  {
   "cell_type": "code",
   "execution_count": 35,
   "metadata": {},
   "outputs": [
    {
     "data": {
      "image/png": "[encoded data removed]",
      "text/plain": [
       "<Figure size 1008x576 with 1 Axes>"
      ]
     },
     "metadata": {},
     "output_type": "display_data"
    }
   ],
   "source": [
    "plt.figure(figsize=(14, 8))\n",
    "plt.xlabel(\"Number of selected features\")\n",
    "plt.ylabel(\"Cross Validation score\")\n",
    "plt.plot(range(1, len(rfe.grid_scores_)+1), rfe.grid_scores_)\n",
    "plt.show()"
   ]
  },
  {
   "cell_type": "markdown",
   "metadata": {},
   "source": [
    "Printing out all features with rank 1"
   ]
  },
  {
   "cell_type": "code",
   "execution_count": 53,
   "metadata": {},
   "outputs": [],
   "source": [
    "useful_features = []\n",
    "for col in X.columns[rfe.ranking_ == 1]:\n",
    "    useful_features.append(col)"
   ]
  },
  {
   "cell_type": "markdown",
   "metadata": {},
   "source": [
    "If we do a feature selection using more `Folds` and small value of `step`, then `RFECV` will take more time and memory but it will select more (large no. of) useful features by doing more processing.\n",
    "\n",
    "I selected `useful_features` from this link: https://www.kaggle.com/nroman/lgb-single-model-lb-0-9419"
   ]
  },
  {
   "cell_type": "markdown",
   "metadata": {},
   "source": [
    "## Feature Selection From Train and Test Sets"
   ]
  },
  {
   "cell_type": "code",
   "execution_count": 65,
   "metadata": {},
   "outputs": [],
   "source": [
    "useful_features = ['TransactionAmt', 'ProductCD', 'card1', 'card2', 'card3', 'card4', 'card5', 'card6', 'addr1', 'addr2', 'dist1',\n",
    "                   'P_emaildomain', 'R_emaildomain', 'C1', 'C2', 'C4', 'C5', 'C6', 'C7', 'C8', 'C9', 'C10', 'C11', 'C12', 'C13',\n",
    "                   'C14', 'D1', 'D2', 'D3', 'D4', 'D5', 'D6', 'D8', 'D9', 'D10', 'D11', 'D12', 'D13', 'D14', 'D15', 'M2', 'M3',\n",
    "                   'M4', 'M5', 'M6', 'M7', 'M8', 'M9', 'V3', 'V4', 'V5', 'V6', 'V7', 'V8', 'V9', 'V10', 'V11', 'V12', 'V13', 'V17',\n",
    "                   'V19', 'V20', 'V29', 'V30', 'V33', 'V34', 'V35', 'V36', 'V37', 'V38', 'V40', 'V44', 'V45', 'V46', 'V47', 'V48',\n",
    "                   'V49', 'V51', 'V52', 'V53', 'V54', 'V56', 'V58', 'V59', 'V60', 'V61', 'V62', 'V63', 'V64', 'V69', 'V70', 'V71',\n",
    "                   'V72', 'V73', 'V74', 'V75', 'V76', 'V78', 'V80', 'V81', 'V82', 'V83', 'V84', 'V85', 'V87', 'V90', 'V91', 'V92',\n",
    "                   'V93', 'V94', 'V95', 'V96', 'V97', 'V99', 'V100', 'V126', 'V127', 'V128', 'V130', 'V131', 'V138', 'V139', 'V140',\n",
    "                   'V143', 'V145', 'V146', 'V147', 'V149', 'V150', 'V151', 'V152', 'V154', 'V156', 'V158', 'V159', 'V160', 'V161',\n",
    "                   'V162', 'V163', 'V164', 'V165', 'V166', 'V167', 'V169', 'V170', 'V171', 'V172', 'V173', 'V175', 'V176', 'V177',\n",
    "                   'V178', 'V180', 'V182', 'V184', 'V187', 'V188', 'V189', 'V195', 'V197', 'V200', 'V201', 'V202', 'V203', 'V204',\n",
    "                   'V205', 'V206', 'V207', 'V208', 'V209', 'V210', 'V212', 'V213', 'V214', 'V215', 'V216', 'V217', 'V219', 'V220',\n",
    "                   'V221', 'V222', 'V223', 'V224', 'V225', 'V226', 'V227', 'V228', 'V229', 'V231', 'V233', 'V234', 'V238', 'V239',\n",
    "                   'V242', 'V243', 'V244', 'V245', 'V246', 'V247', 'V249', 'V251', 'V253', 'V256', 'V257', 'V258', 'V259', 'V261',\n",
    "                   'V262', 'V263', 'V264', 'V265', 'V266', 'V267', 'V268', 'V270', 'V271', 'V272', 'V273', 'V274', 'V275', 'V276',\n",
    "                   'V277', 'V278', 'V279', 'V280', 'V282', 'V283', 'V285', 'V287', 'V288', 'V289', 'V291', 'V292', 'V294', 'V303',\n",
    "                   'V304', 'V306', 'V307', 'V308', 'V310', 'V312', 'V313', 'V314', 'V315', 'V317', 'V322', 'V323', 'V324', 'V326',\n",
    "                   'V329', 'V331', 'V332', 'V333', 'V335', 'V336', 'V338', 'id_01', 'id_02', 'id_03', 'id_05', 'id_06', 'id_09',\n",
    "                   'id_11', 'id_12', 'id_13', 'id_14', 'id_15', 'id_17', 'id_19', 'id_20', 'id_30', 'id_31', 'id_32', 'id_33',\n",
    "                   'id_36', 'id_37', 'id_38', 'DeviceType', 'DeviceInfo']"
   ]
  },
  {
   "cell_type": "code",
   "execution_count": 66,
   "metadata": {},
   "outputs": [],
   "source": [
    "useless_features = [col for col in train.columns if col not in useful_features]\n",
    "\n",
    "useless_features.remove('isFraud')\n",
    "useless_features.remove('TransactionDT')\n",
    "useless_features.remove('TransactionID')"
   ]
  },
  {
   "cell_type": "code",
   "execution_count": 70,
   "metadata": {},
   "outputs": [
    {
     "name": "stdout",
     "output_type": "stream",
     "text": [
      "152 Features are going to be dropped for being useless\n"
     ]
    }
   ],
   "source": [
    "print(f'{len(useless_features)} Features are going to be dropped for being useless')\n",
    "\n",
    "train = train.drop(useless_features, axis=1)\n",
    "test = test.drop(useless_features, axis=1)"
   ]
  },
  {
   "cell_type": "markdown",
   "metadata": {},
   "source": [
    "## Feature Engineering"
   ]
  },
  {
   "cell_type": "code",
   "execution_count": 72,
   "metadata": {},
   "outputs": [],
   "source": [
    "# New feature - decimal part of the transaction amount\n",
    "train['TransactionAmt_Decimal'] = ((train['TransactionAmt'] - train['TransactionAmt']\n",
    "                                    .astype(int)) * 1000).astype(int)\n",
    "\n",
    "test['TransactionAmt_Decimal'] = ((test['TransactionAmt'] - test['TransactionAmt']\n",
    "                                    .astype(int)) * 1000).astype(int)"
   ]
  },
  {
   "cell_type": "code",
   "execution_count": 80,
   "metadata": {},
   "outputs": [
    {
     "name": "stdout",
     "output_type": "stream",
     "text": [
      "(590540, 283) (506691, 282)\n"
     ]
    }
   ],
   "source": [
    "print(train.shape, test.shape)"
   ]
  },
  {
   "cell_type": "markdown",
   "metadata": {},
   "source": [
    "## Handle Categorical Features"
   ]
  },
  {
   "cell_type": "code",
   "execution_count": 112,
   "metadata": {},
   "outputs": [
    {
     "data": {
      "application/vnd.jupyter.widget-view+json": {
       "model_id": "e40d418c02e84822a0c2ac900c239c1c",
       "version_major": 2,
       "version_minor": 0
      },
      "text/plain": [
       "HBox(children=(IntProgress(value=0, max=434), HTML(value='')))"
      ]
     },
     "metadata": {},
     "output_type": "display_data"
    },
    {
     "name": "stdout",
     "output_type": "stream",
     "text": [
      "\n"
     ]
    }
   ],
   "source": [
    "for col in tqdm_notebook(train.columns):\n",
    "    if train[col].dtype == 'object':\n",
    "        le = LabelEncoder()\n",
    "        le.fit(list(train[col].astype(str).values) + list(test[col].astype(str).values))\n",
    "        train[col] = le.transform(list(train[col].astype(str).values))\n",
    "        test[col] = le.transform(list(test[col].astype(str).values))"
   ]
  },
  {
   "cell_type": "markdown",
   "metadata": {},
   "source": [
    "Align the `train` and `test` datasets."
   ]
  },
  {
   "cell_type": "code",
   "execution_count": 113,
   "metadata": {},
   "outputs": [],
   "source": [
    "X = train.sort_values('TransactionDT').drop(['isFraud', 'TransactionDT', 'TransactionID'], axis=1)\n",
    "y = train.sort_values('TransactionDT')['isFraud']\n",
    "test = test.sort_values('TransactionDT').drop(['TransactionDT', 'TransactionID'], axis=1)"
   ]
  },
  {
   "cell_type": "code",
   "execution_count": 114,
   "metadata": {},
   "outputs": [
    {
     "name": "stdout",
     "output_type": "stream",
     "text": [
      "(590540, 431) (506691, 431)\n"
     ]
    }
   ],
   "source": [
    "print(X.shape, test.shape)"
   ]
  },
  {
   "cell_type": "markdown",
   "metadata": {},
   "source": [
    "## Modelling"
   ]
  },
  {
   "cell_type": "code",
   "execution_count": 115,
   "metadata": {},
   "outputs": [],
   "source": [
    "params = {'num_leaves': 491,\n",
    "          'min_child_weight': 0.03454472573214212,\n",
    "          'feature_fraction': 0.3797454081646243,\n",
    "          'bagging_fraction': 0.4181193142567742,\n",
    "          'min_data_in_leaf': 106,\n",
    "          'objective': 'binary',\n",
    "          'max_depth': -1,\n",
    "          'learning_rate': 0.006883242363721497,\n",
    "          \"boosting_type\": \"gbdt\",\n",
    "          \"bagging_seed\": 11,\n",
    "          \"metric\": 'auc',\n",
    "          \"verbosity\": -1,\n",
    "          'reg_alpha': 0.3899927210061127,\n",
    "          'reg_lambda': 0.6485237330340494,\n",
    "          'random_state': 47\n",
    "         }"
   ]
  },
  {
   "cell_type": "code",
   "execution_count": 116,
   "metadata": {},
   "outputs": [
    {
     "name": "stdout",
     "output_type": "stream",
     "text": [
      "Training on Fold 1\n",
      "Training until validation scores don't improve for 500 rounds.\n",
      "[1000]\ttraining's auc: 0.999943\tvalid_1's auc: 0.9026\n",
      "Early stopping, best iteration is:\n",
      "[846]\ttraining's auc: 0.999803\tvalid_1's auc: 0.902797\n",
      "Fold 1 finished in 0:02:37.723373\n",
      "Training on Fold 2\n",
      "Training until validation scores don't improve for 500 rounds.\n",
      "[1000]\ttraining's auc: 0.999673\tvalid_1's auc: 0.921731\n",
      "Early stopping, best iteration is:\n",
      "[823]\ttraining's auc: 0.999124\tvalid_1's auc: 0.922159\n",
      "Fold 2 finished in 0:04:56.327580\n",
      "Training on Fold 3\n",
      "Training until validation scores don't improve for 500 rounds.\n",
      "[1000]\ttraining's auc: 0.998221\tvalid_1's auc: 0.914427\n",
      "Early stopping, best iteration is:\n",
      "[917]\ttraining's auc: 0.997615\tvalid_1's auc: 0.914762\n",
      "Fold 3 finished in 0:07:36.790770\n",
      "Training on Fold 4\n",
      "Training until validation scores don't improve for 500 rounds.\n",
      "[1000]\ttraining's auc: 0.995621\tvalid_1's auc: 0.932892\n",
      "Early stopping, best iteration is:\n",
      "[1074]\ttraining's auc: 0.996398\tvalid_1's auc: 0.933079\n",
      "Fold 4 finished in 0:10:42.297649\n",
      "Training on Fold 5\n",
      "Training until validation scores don't improve for 500 rounds.\n",
      "[1000]\ttraining's auc: 0.993381\tvalid_1's auc: 0.931702\n",
      "Early stopping, best iteration is:\n",
      "[1186]\ttraining's auc: 0.995512\tvalid_1's auc: 0.931949\n",
      "Fold 5 finished in 0:13:57.740741\n",
      "------------------------------\n",
      "Training has finished!\n",
      "Total training time is 0:39:50.929181\n",
      "Mean AUC:  0.9209492896047113\n",
      "------------------------------\n"
     ]
    }
   ],
   "source": [
    "folds = TimeSeriesSplit(n_splits=5)\n",
    "\n",
    "feature_importances = pd.DataFrame()\n",
    "feature_importances['feature'] = X.columns\n",
    "\n",
    "aucs = []\n",
    "\n",
    "training_start_time = time()\n",
    "for fold, (train_idx, valid_idx) in enumerate(folds.split(X, y)):\n",
    "    start_time = time()\n",
    "    print('Training on Fold {}'.format(fold + 1))\n",
    "    \n",
    "    # make train and validation set\n",
    "    train_data = lgb.Dataset(X.iloc[train_idx], y.iloc[train_idx])\n",
    "    valid_data = lgb.Dataset(X.iloc[valid_idx], y.iloc[valid_idx])\n",
    "    \n",
    "    clf = lgb.train(params, train_data, 10000, valid_sets=[train_data, valid_data],\n",
    "                    verbose_eval=1000, early_stopping_rounds=500)\n",
    "    \n",
    "    feature_importances['fold_{}'.format(fold + 1)] = clf.feature_importance()\n",
    "    aucs.append(clf.best_score['valid_1']['auc'])\n",
    "    \n",
    "    print('Fold {} finished in {}'.format(fold + 1, str(datetime.timedelta(seconds=time() - start_time))))\n",
    "    \n",
    "print('-' * 30)\n",
    "print('Training has finished!')\n",
    "print('Total training time is {}'.format(str(datetime.timedelta(seconds=time() - training_start_time))))\n",
    "print('Mean AUC: ', np.mean(aucs))\n",
    "print('-' * 30)"
   ]
  },
  {
   "cell_type": "markdown",
   "metadata": {},
   "source": [
    "## Feature Importances"
   ]
  },
  {
   "cell_type": "code",
   "execution_count": 117,
   "metadata": {},
   "outputs": [
    {
     "data": {
      "image/png": "[encoded data removed]",
      "text/plain": [
       "<Figure size 1152x1152 with 1 Axes>"
      ]
     },
     "metadata": {},
     "output_type": "display_data"
    }
   ],
   "source": [
    "feature_importances['average'] = feature_importances[['fold_{}'.format(fold+1) \n",
    "                                                      for fold in range(folds.n_splits)]].mean(axis=1)\n",
    "\n",
    "feature_importances.to_csv(base_path + 'feature_importances_1.csv')\n",
    "plt.figure(figsize=(16, 16))\n",
    "sorted_feature_importances = feature_importances.sort_values(by='average', ascending=False).head(50)\n",
    "sns.barplot(x='average', y='feature', data=sorted_feature_importances)\n",
    "plt.title('Top 50 feature importance over {} folds average'.format(folds.n_splits))\n",
    "plt.show()"
   ]
  },
  {
   "cell_type": "code",
   "execution_count": 118,
   "metadata": {},
   "outputs": [],
   "source": [
    "# clf now is trained with 80% of data and validated with 20%\n",
    "best_iteration = clf.best_iteration"
   ]
  },
  {
   "cell_type": "code",
   "execution_count": 119,
   "metadata": {},
   "outputs": [
    {
     "name": "stderr",
     "output_type": "stream",
     "text": [
      "C:\\Users\\VenD\\Anaconda3\\lib\\site-packages\\lightgbm\\engine.py:118: UserWarning: Found `num_boost_round` in params. Will use it instead of argument\n",
      "  warnings.warn(\"Found `{}` in params. Will use it instead of argument\".format(alias))\n"
     ]
    },
    {
     "data": {
      "text/plain": [
       "LGBMClassifier(bagging_fraction=0.4181193142567742, bagging_seed=11,\n",
       "        boosting_type='gbdt', class_weight=None, colsample_bytree=1.0,\n",
       "        feature_fraction=0.3797454081646243, importance_type='split',\n",
       "        learning_rate=0.006883242363721497, max_depth=-1, metric='auc',\n",
       "        min_child_samples=20, min_child_weight=0.03454472573214212,\n",
       "        min_data_in_leaf=106, min_split_gain=0.0, n_estimators=100,\n",
       "        n_jobs=-1, num_boost_round=1186, num_leaves=491,\n",
       "        objective='binary', random_state=47, reg_alpha=0.3899927210061127,\n",
       "        reg_lambda=0.6485237330340494, silent=True, subsample=1.0,\n",
       "        subsample_for_bin=200000, subsample_freq=0, verbosity=-1)"
      ]
     },
     "execution_count": 119,
     "metadata": {},
     "output_type": "execute_result"
    }
   ],
   "source": [
    "clf = lgb.LGBMClassifier(**params, num_boost_round=best_iteration)\n",
    "clf.fit(X, y)"
   ]
  },
  {
   "cell_type": "code",
   "execution_count": 120,
   "metadata": {},
   "outputs": [],
   "source": [
    "test_predictions = clf.predict_proba(test)[:, 1]"
   ]
  },
  {
   "cell_type": "code",
   "execution_count": 121,
   "metadata": {},
   "outputs": [],
   "source": [
    "sample_submission['isFraud'] = test_predictions"
   ]
  },
  {
   "cell_type": "code",
   "execution_count": 122,
   "metadata": {},
   "outputs": [],
   "source": [
    "sample_submission.to_csv(base_path + 'submission_v2.csv', index=False)"
   ]
  },
  {
   "cell_type": "code",
   "execution_count": null,
   "metadata": {},
   "outputs": [],
   "source": []
  }
 ],
 "metadata": {
  "kernelspec": {
   "display_name": "Python 3",
   "language": "python",
   "name": "python3"
  },
  "language_info": {
   "codemirror_mode": {
    "name": "ipython",
    "version": 3
   },
   "file_extension": ".py",
   "mimetype": "text/x-python",
   "name": "python",
   "nbconvert_exporter": "python",
   "pygments_lexer": "ipython3",
   "version": "3.6.5"
  }
 },
 "nbformat": 4,
 "nbformat_minor": 2
}
