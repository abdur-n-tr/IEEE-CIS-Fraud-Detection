{
 "cells": [
  {
   "cell_type": "code",
   "execution_count": 1,
   "metadata": {},
   "outputs": [],
   "source": [
    "import pandas as pd\n",
    "import numpy as np\n",
    "\n",
    "import multiprocessing\n",
    "import gc\n",
    "\n",
    "from time import time\n",
    "import datetime\n",
    "\n",
    "from tqdm import tqdm_notebook\n",
    "\n",
    "import seaborn as sns\n",
    "import matplotlib.pyplot as plt\n",
    "\n",
    "from sklearn.metrics import roc_auc_score\n",
    "from sklearn.preprocessing import LabelEncoder\n",
    "from sklearn.model_selection import KFold, TimeSeriesSplit\n",
    "from sklearn.feature_selection import RFECV\n",
    "\n",
    "import lightgbm as lgb\n",
    "\n",
    "sns.set()\n",
    "%matplotlib inline"
   ]
  },
  {
   "cell_type": "code",
   "execution_count": 2,
   "metadata": {},
   "outputs": [
    {
     "name": "stdout",
     "output_type": "stream",
     "text": [
      "Wall time: 55.1 s\n"
     ]
    }
   ],
   "source": [
    "%%time\n",
    "\n",
    "base_path = 'C:/Users/VenD/Downloads/ieee-fraud-detection/dataset/'\n",
    "\n",
    "train_transaction = pd.read_csv(base_path + 'train_transaction.csv')\n",
    "train_identity = pd.read_csv(base_path + 'train_identity.csv')\n",
    "\n",
    "test_identity = pd.read_csv(base_path + 'test_identity.csv')\n",
    "test_transaction = pd.read_csv(base_path + 'test_transaction.csv')\n",
    "\n",
    "sample_submission = pd.read_csv(base_path + 'sample_submission.csv')\n",
    "\n",
    "train = train_transaction.merge(train_identity, how='left', on='TransactionID')\n",
    "test = test_transaction.merge(test_identity, how='left', on='TransactionID')\n",
    "\n",
    "del train_transaction, train_identity, test_transaction, test_identity\n",
    "gc.collect()"
   ]
  },
  {
   "cell_type": "code",
   "execution_count": 9,
   "metadata": {},
   "outputs": [],
   "source": [
    "# Function to reduce the DF size\n",
    "def reduce_memory_usage(df, verbose=True):\n",
    "    numerics = ['int16', 'int32', 'int64', 'float16', 'float32', 'float64']\n",
    "    df_memory_size_in_mega_bytes = df.memory_usage().sum() / 1024**2\n",
    "    for col in tqdm_notebook(df.columns):\n",
    "        col_data_type = df[col].dtypes\n",
    "        if col_data_type in numerics:\n",
    "            col_min = df[col].min()\n",
    "            col_max = df[col].max()\n",
    "            if str(col_data_type)[:3] == 'int':\n",
    "                if col_min > np.iinfo(np.int8).min and col_max < np.iinfo(np.int8).max:\n",
    "                    df[col] = df[col].astype(np.int8)\n",
    "                elif col_min > np.iinfo(np.int16).min and col_max < np.iinfo(np.int16).max:\n",
    "                    df[col] = df[col].astype(np.int16)\n",
    "                elif col_min > np.iinfo(np.int32).min and col_max < np.iinfo(np.int32).max:\n",
    "                    df[col] = df[col].astype(np.int32)\n",
    "                elif col_min > np.iinfo(np.int64).min and col_max < np.iinfo(np.int64).max:\n",
    "                    df[col] = df[col].astype(np.int64) \n",
    "            else:\n",
    "                if col_min > np.finfo(np.float16).min and col_max < np.finfo(np.float16).max:\n",
    "                    df[col] = df[col].astype(np.float16)\n",
    "                elif col_min > np.finfo(np.float32).min and col_max < np.finfo(np.float32).max:\n",
    "                    df[col] = df[col].astype(np.float32)\n",
    "                elif col_min > np.finfo(np.float64).min and col_max < np.finfo(np.float64).max:\n",
    "                    df[col] = df[col].astype(np.float64)\n",
    "                    \n",
    "    reduced_df_memory_size_in_mega_bytes = df.memory_usage().sum() / 1024**2\n",
    "    \n",
    "    memory_diff = (df_memory_size_in_mega_bytes - reduced_df_memory_size_in_mega_bytes)\n",
    "    reduce_percent =  (memory_diff / df_memory_size_in_mega_bytes) * 100\n",
    "    \n",
    "    if verbose:\n",
    "        print('Memory usage decreased from {:5.2f} Mb to {:5.2f} Mb ({:.1f}% reduction)' \\\n",
    "              .format(df_memory_size_in_mega_bytes, reduced_df_memory_size_in_mega_bytes, reduce_percent))\n",
    "        \n",
    "    return df"
   ]
  },
  {
   "cell_type": "code",
   "execution_count": 10,
   "metadata": {},
   "outputs": [
    {
     "data": {
      "application/vnd.jupyter.widget-view+json": {
       "model_id": "71a2ebf03fdd425483afe58e02c0f6c0",
       "version_major": 2,
       "version_minor": 0
      },
      "text/plain": [
       "HBox(children=(IntProgress(value=0, max=434), HTML(value='')))"
      ]
     },
     "metadata": {},
     "output_type": "display_data"
    },
    {
     "name": "stdout",
     "output_type": "stream",
     "text": [
      "\n",
      "Memory usage decreased from 1959.88 Mb to 650.48 Mb (66.8% reduction)\n"
     ]
    },
    {
     "data": {
      "application/vnd.jupyter.widget-view+json": {
       "model_id": "4ab3a806ee9c414fa79703ee32eae2a6",
       "version_major": 2,
       "version_minor": 0
      },
      "text/plain": [
       "HBox(children=(IntProgress(value=0, max=433), HTML(value='')))"
      ]
     },
     "metadata": {},
     "output_type": "display_data"
    },
    {
     "name": "stdout",
     "output_type": "stream",
     "text": [
      "\n",
      "Memory usage decreased from 1677.73 Mb to 565.37 Mb (66.3% reduction)\n"
     ]
    }
   ],
   "source": [
    "train = reduce_memory_usage(train)\n",
    "test = reduce_memory_usage(test)"
   ]
  },
  {
   "cell_type": "code",
   "execution_count": 4,
   "metadata": {},
   "outputs": [],
   "source": [
    "def one_unique_value_features(df):\n",
    "    one_value_cols = [col for col in df if df[col].nunique() == 1]\n",
    "    \n",
    "    return one_value_cols"
   ]
  },
  {
   "cell_type": "code",
   "execution_count": 5,
   "metadata": {},
   "outputs": [],
   "source": [
    "def missing_value_features(df, threshold = 0.0):\n",
    "    missing_value_cols = [col for col in df if (df[col].isnull().sum() / df.shape[0]) > threshold]\n",
    "    \n",
    "    return missing_value_cols"
   ]
  },
  {
   "cell_type": "code",
   "execution_count": 6,
   "metadata": {},
   "outputs": [],
   "source": [
    "def frequent_value_features(df, threshold = 0.0):\n",
    "    frequent_top_value_cols = [col for col in df if df[col].value_counts(dropna=False, normalize=True).values[0] > threshold]\n",
    "    \n",
    "    return frequent_top_value_cols"
   ]
  },
  {
   "cell_type": "code",
   "execution_count": 14,
   "metadata": {},
   "outputs": [],
   "source": [
    "# Function to calculate missing values by column\n",
    "def missing_values_table(df):\n",
    "    # Total missing values\n",
    "    miss_val = df.isnull().sum()\n",
    "    \n",
    "    # Percentage of missing values\n",
    "    miss_val_percent = (miss_val / len(df)) * 100\n",
    "    \n",
    "    # Make a table with the results\n",
    "    miss_val_table = pd.concat([miss_val, miss_val_percent], axis = 1)\n",
    "    \n",
    "    # Rename the columns\n",
    "    miss_val_table_ren_cols = miss_val_table.rename(columns = {0: 'Missing Values', 1: '% of Total Values'})\n",
    "    \n",
    "    # Sort (descending) the table by percentage of missing\n",
    "    sorted_miss_val_table = miss_val_table_ren_cols[miss_val_table_ren_cols.iloc[:, 0] != 0]. \\\n",
    "                            sort_values('Missing Values', ascending = False).round(1)\n",
    "    \n",
    "    # Print some summary information\n",
    "    print(\"Your selected dataframe has {} columns.\\nThere are {} columns that have missing values.\"\n",
    "          .format(df.shape[1], miss_val_table_ren_cols.shape[0]))\n",
    "    \n",
    "    # Return the dataframe with missing information\n",
    "    return sorted_miss_val_table"
   ]
  },
  {
   "cell_type": "code",
   "execution_count": 15,
   "metadata": {},
   "outputs": [
    {
     "name": "stdout",
     "output_type": "stream",
     "text": [
      "Your selected dataframe has 434 columns.\n",
      "There are 434 columns that have missing values.\n"
     ]
    },
    {
     "data": {
      "text/html": [
       "<div>\n",
       "<style scoped>\n",
       "    .dataframe tbody tr th:only-of-type {\n",
       "        vertical-align: middle;\n",
       "    }\n",
       "\n",
       "    .dataframe tbody tr th {\n",
       "        vertical-align: top;\n",
       "    }\n",
       "\n",
       "    .dataframe thead th {\n",
       "        text-align: right;\n",
       "    }\n",
       "</style>\n",
       "<table border=\"1\" class=\"dataframe\">\n",
       "  <thead>\n",
       "    <tr style=\"text-align: right;\">\n",
       "      <th></th>\n",
       "      <th>Missing Values</th>\n",
       "      <th>% of Total Values</th>\n",
       "    </tr>\n",
       "  </thead>\n",
       "  <tbody>\n",
       "    <tr>\n",
       "      <th>id_24</th>\n",
       "      <td>585793</td>\n",
       "      <td>99.2</td>\n",
       "    </tr>\n",
       "    <tr>\n",
       "      <th>id_25</th>\n",
       "      <td>585408</td>\n",
       "      <td>99.1</td>\n",
       "    </tr>\n",
       "    <tr>\n",
       "      <th>id_07</th>\n",
       "      <td>585385</td>\n",
       "      <td>99.1</td>\n",
       "    </tr>\n",
       "    <tr>\n",
       "      <th>id_08</th>\n",
       "      <td>585385</td>\n",
       "      <td>99.1</td>\n",
       "    </tr>\n",
       "    <tr>\n",
       "      <th>id_21</th>\n",
       "      <td>585381</td>\n",
       "      <td>99.1</td>\n",
       "    </tr>\n",
       "    <tr>\n",
       "      <th>id_26</th>\n",
       "      <td>585377</td>\n",
       "      <td>99.1</td>\n",
       "    </tr>\n",
       "    <tr>\n",
       "      <th>id_27</th>\n",
       "      <td>585371</td>\n",
       "      <td>99.1</td>\n",
       "    </tr>\n",
       "    <tr>\n",
       "      <th>id_23</th>\n",
       "      <td>585371</td>\n",
       "      <td>99.1</td>\n",
       "    </tr>\n",
       "    <tr>\n",
       "      <th>id_22</th>\n",
       "      <td>585371</td>\n",
       "      <td>99.1</td>\n",
       "    </tr>\n",
       "    <tr>\n",
       "      <th>dist2</th>\n",
       "      <td>552913</td>\n",
       "      <td>93.6</td>\n",
       "    </tr>\n",
       "    <tr>\n",
       "      <th>D7</th>\n",
       "      <td>551623</td>\n",
       "      <td>93.4</td>\n",
       "    </tr>\n",
       "    <tr>\n",
       "      <th>id_18</th>\n",
       "      <td>545427</td>\n",
       "      <td>92.4</td>\n",
       "    </tr>\n",
       "    <tr>\n",
       "      <th>D13</th>\n",
       "      <td>528588</td>\n",
       "      <td>89.5</td>\n",
       "    </tr>\n",
       "    <tr>\n",
       "      <th>D14</th>\n",
       "      <td>528353</td>\n",
       "      <td>89.5</td>\n",
       "    </tr>\n",
       "    <tr>\n",
       "      <th>D12</th>\n",
       "      <td>525823</td>\n",
       "      <td>89.0</td>\n",
       "    </tr>\n",
       "    <tr>\n",
       "      <th>id_03</th>\n",
       "      <td>524216</td>\n",
       "      <td>88.8</td>\n",
       "    </tr>\n",
       "    <tr>\n",
       "      <th>id_04</th>\n",
       "      <td>524216</td>\n",
       "      <td>88.8</td>\n",
       "    </tr>\n",
       "    <tr>\n",
       "      <th>D6</th>\n",
       "      <td>517353</td>\n",
       "      <td>87.6</td>\n",
       "    </tr>\n",
       "    <tr>\n",
       "      <th>id_33</th>\n",
       "      <td>517251</td>\n",
       "      <td>87.6</td>\n",
       "    </tr>\n",
       "    <tr>\n",
       "      <th>id_10</th>\n",
       "      <td>515614</td>\n",
       "      <td>87.3</td>\n",
       "    </tr>\n",
       "  </tbody>\n",
       "</table>\n",
       "</div>"
      ],
      "text/plain": [
       "       Missing Values  % of Total Values\n",
       "id_24          585793               99.2\n",
       "id_25          585408               99.1\n",
       "id_07          585385               99.1\n",
       "id_08          585385               99.1\n",
       "id_21          585381               99.1\n",
       "id_26          585377               99.1\n",
       "id_27          585371               99.1\n",
       "id_23          585371               99.1\n",
       "id_22          585371               99.1\n",
       "dist2          552913               93.6\n",
       "D7             551623               93.4\n",
       "id_18          545427               92.4\n",
       "D13            528588               89.5\n",
       "D14            528353               89.5\n",
       "D12            525823               89.0\n",
       "id_03          524216               88.8\n",
       "id_04          524216               88.8\n",
       "D6             517353               87.6\n",
       "id_33          517251               87.6\n",
       "id_10          515614               87.3"
      ]
     },
     "execution_count": 15,
     "metadata": {},
     "output_type": "execute_result"
    }
   ],
   "source": [
    "# Missing values statistics\n",
    "missing_values = missing_values_table(train)\n",
    "missing_values.head(20)"
   ]
  },
  {
   "cell_type": "code",
   "execution_count": 16,
   "metadata": {},
   "outputs": [
    {
     "data": {
      "text/plain": [
       "float16    354\n",
       "float32     45\n",
       "object      31\n",
       "int32        2\n",
       "int16        1\n",
       "int8         1\n",
       "dtype: int64"
      ]
     },
     "execution_count": 16,
     "metadata": {},
     "output_type": "execute_result"
    }
   ],
   "source": [
    "# Number of each type of column\n",
    "train.dtypes.value_counts()"
   ]
  },
  {
   "cell_type": "code",
   "execution_count": 17,
   "metadata": {},
   "outputs": [
    {
     "data": {
      "text/plain": [
       "ProductCD           5\n",
       "card4               4\n",
       "card6               4\n",
       "P_emaildomain      59\n",
       "R_emaildomain      60\n",
       "M1                  2\n",
       "M2                  2\n",
       "M3                  2\n",
       "M4                  3\n",
       "M5                  2\n",
       "M6                  2\n",
       "M7                  2\n",
       "M8                  2\n",
       "M9                  2\n",
       "id_12               2\n",
       "id_15               3\n",
       "id_16               2\n",
       "id_23               3\n",
       "id_27               2\n",
       "id_28               2\n",
       "id_29               2\n",
       "id_30              75\n",
       "id_31             130\n",
       "id_33             260\n",
       "id_34               4\n",
       "id_35               2\n",
       "id_36               2\n",
       "id_37               2\n",
       "id_38               2\n",
       "DeviceType          2\n",
       "DeviceInfo       1786\n",
       "dtype: int64"
      ]
     },
     "execution_count": 17,
     "metadata": {},
     "output_type": "execute_result"
    }
   ],
   "source": [
    "# Number of unique classes (categories) in each object column\n",
    "train.select_dtypes('object').apply(pd.Series.nunique, axis = 0)"
   ]
  },
  {
   "cell_type": "markdown",
   "metadata": {},
   "source": [
    "## Categorical Encoding\n",
    "\n",
    "- Label Encoding\n",
    "- One Hot Encoding\n",
    "- Mean Encoding (different strategies to implement it) ... To see more, https://www.youtube.com/watch?v=AV_hJN1ALnI&list=PLpQWTe-45nxL3bhyAJMEs90KF_gZmuqtm&index=37"
   ]
  },
  {
   "cell_type": "code",
   "execution_count": null,
   "metadata": {},
   "outputs": [],
   "source": []
  }
 ],
 "metadata": {
  "kernelspec": {
   "display_name": "Python 3",
   "language": "python",
   "name": "python3"
  },
  "language_info": {
   "codemirror_mode": {
    "name": "ipython",
    "version": 3
   },
   "file_extension": ".py",
   "mimetype": "text/x-python",
   "name": "python",
   "nbconvert_exporter": "python",
   "pygments_lexer": "ipython3",
   "version": "3.6.5"
  }
 },
 "nbformat": 4,
 "nbformat_minor": 2
}
